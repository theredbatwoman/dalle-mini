{
  "cells": [
    {
      "cell_type": "markdown",
      "metadata": {
        "id": "view-in-github",
        "colab_type": "text"
      },
      "source": [
        "<a href=\"https://colab.research.google.com/github/theredbatwoman/dalle-mini/blob/main/notebooks/workshop_1.ipynb\" target=\"_parent\"><img src=\"https://colab.research.google.com/assets/colab-badge.svg\" alt=\"Open In Colab\"/></a>"
      ]
    },
    {
      "cell_type": "markdown",
      "id": "RtNyiQITP3ft",
      "metadata": {
        "id": "RtNyiQITP3ft"
      },
      "source": [
        "## Set-up: Run the following cell to configure our working directory appropriately.\n",
        "If we are running on Google Colab, the following cell will clone the notebooks into our Colab filespace. If instead running locally, it will add the parent directory of the notebooks to the path such that we can import the custom module ```funcs```."
      ]
    },
    {
      "cell_type": "code",
      "execution_count": 13,
      "id": "4710f971",
      "metadata": {
        "colab": {
          "base_uri": "https://localhost:8080/"
        },
        "id": "4710f971",
        "outputId": "ef77e6bd-812b-4077-f78b-4f5c35ec98a7"
      },
      "outputs": [
        {
          "output_type": "stream",
          "name": "stdout",
          "text": [
            "fatal: destination path 'MLworkshop' already exists and is not an empty directory.\n"
          ]
        }
      ],
      "source": [
        "import sys\n",
        "if 'google.colab' in sys.modules:\n",
        "    !git clone https://github.com/harry-rendell/MLworkshop.git\n",
        "    sys.path.append('./MLworkshop')\n",
        "else:\n",
        "    sys.path.append('..')"
      ]
    },
    {
      "cell_type": "markdown",
      "id": "c5d23d90",
      "metadata": {
        "id": "c5d23d90"
      },
      "source": [
        "## Tips!\n",
        "* In Google Colab you can pass your cursor over a function to see what it does.\n",
        "* If instead you are running locally, you can use Shift+Tab while your cursor is in a function to see what it does."
      ]
    },
    {
      "cell_type": "markdown",
      "id": "172362e4",
      "metadata": {
        "id": "172362e4"
      },
      "source": [
        "# Introduction\n",
        "---\n",
        "We are going to build and train a simple neural network to classify the MNIST dataset. This dataset contains 1,796 grayscale images of handwritten digits from 0 to 9. The images are an 8x8 grid of pixel values. Although this is an easy task for a human, it's not so easy for a computer. Since every image in the database is unique, we need a model which can adapt to different handwriting styles and classify them accurately. This is where machine learning comes in!"
      ]
    },
    {
      "cell_type": "code",
      "execution_count": 2,
      "id": "5f79b39b",
      "metadata": {
        "id": "5f79b39b"
      },
      "outputs": [],
      "source": [
        "# Standard imports\n",
        "import numpy as np\n",
        "import matplotlib.pyplot as plt\n",
        "# Keras imports\n",
        "from tensorflow.python.keras.utils.vis_utils import plot_model\n",
        "from tensorflow.python.keras.models import Model\n",
        "from tensorflow.python.keras.layers import Input, Dense, Flatten, Reshape, Dropout\n",
        "from tensorflow.keras.regularizers import l1_l2\n",
        "# Custom imports\n",
        "from funcs.plotting import plot_classifications, plot_training, plot_data"
      ]
    },
    {
      "cell_type": "markdown",
      "id": "ede37f08",
      "metadata": {
        "id": "ede37f08"
      },
      "source": [
        "# Load in data\n",
        "---"
      ]
    },
    {
      "cell_type": "code",
      "execution_count": 3,
      "id": "b248a888",
      "metadata": {
        "id": "b248a888"
      },
      "outputs": [],
      "source": [
        "from sklearn import datasets\n",
        "digits = datasets.load_digits()\n",
        "from sklearn.model_selection import train_test_split\n",
        "\n",
        "x_train, x_test, y_train, y_test = train_test_split(digits.images, digits.target, test_size=0.6, shuffle=True)\n",
        "x_train = x_train/x_train.max() # Normalise data so pixel values are between 0 and 1\n",
        "x_test  = x_test/x_train.max()\n",
        "input_shape  = (8,8)\n",
        "n_classes = 10 # we have 10 different classes, ie 10 integers from 0 to 9"
      ]
    },
    {
      "cell_type": "markdown",
      "id": "57b4fe35",
      "metadata": {
        "id": "57b4fe35"
      },
      "source": [
        "# Plot the data\n",
        "---\n",
        "### Let's see what we're working with here."
      ]
    },
    {
      "cell_type": "code",
      "execution_count": 10,
      "id": "4c477e5c",
      "metadata": {
        "colab": {
          "base_uri": "https://localhost:8080/",
          "height": 591
        },
        "id": "4c477e5c",
        "outputId": "2e65a56b-d2e6-4981-9cc2-f7498adeec3e"
      },
      "outputs": [
        {
          "output_type": "display_data",
          "data": {
            "text/plain": [
              "<Figure size 720x720 with 36 Axes>"
            ],
            "image/png": "[encoded data removed]"
          },
          "metadata": {
            "needs_background": "light"
          }
        }
      ],
      "source": [
        "plot_data(x_train, y_train)"
      ]
    },
    {
      "cell_type": "markdown",
      "id": "fc3a40b5",
      "metadata": {
        "id": "fc3a40b5"
      },
      "source": [
        "# Making your model\n",
        "---\n",
        "### This is the basic structure of constructing a dense neural network using Keras\n",
        "> ```\n",
        "> Line 1: i = Input(shape)\n",
        "> Line 2: x = Flatten()(i)\n",
        "> Line 3: x = Dense(n_nodes, activation='relu')(x)\n",
        "> Line 4: x = Dense(n_nodes, activation='relu')(x)\n",
        "> ...\n",
        "> Line 5: o = Dense(n_classes, activation='softmax')(x)\n",
        ">\n",
        "> Line 6: mymodel = Model(i, o, name='My first model!')\n",
        "> Line 7: mymodel.summary()\n",
        "\n",
        "* Line 1: We set the input of the model using the shape of our input. Since we are using 8x8 images in the training data, our input shape is (8,8). You can use the ```input_shape``` parameter defined earlier.\n",
        "* Line 2: This step flattens the 2D input with shape (8,8) into a 1D array with shape (64,), since Dense networks require a 1D input. Note that for every layer we need to pass the previous layer to the current one. Here we do this by putting (i) at the end which passes the input to Flatten().\n",
        "* Line 3: Here we create the first layer. We can choose how many nodes we want in this layer (more nodes = able to model complex data better, but takes longer to train). We also need to set the activation, a sensible choice would be activation='relu'.\n",
        "* Line 4: We can add more layers like this, provided we pass the previous layer to the new layer by putting (x) at the end as before.\n",
        "* Line 5: We define the final ouput layer. The output shape needs to match the shape of the label data (y_train), ie 10. These 10 numbers will correspond to the probability that the input is each of the numbers 0-9. We must use the 'softmax' activation function here as it ensures the probabilities sum to 1.\n",
        "* Line 6: We construct the model using the ```Model()``` function. We pass the input and output as arguments. You can also name the model anything you like, e.g. name = 'My first model!'\n",
        "* Line 7: Prints a summary of our model"
      ]
    },
    {
      "cell_type": "code",
      "execution_count": 11,
      "id": "312262bc",
      "metadata": {
        "id": "312262bc",
        "outputId": "98e29c92-79e1-4201-b493-fee9bfaa947e",
        "colab": {
          "base_uri": "https://localhost:8080/"
        }
      },
      "outputs": [
        {
          "output_type": "stream",
          "name": "stdout",
          "text": [
            "Model: \"Bruh pt.2\"\n",
            "_________________________________________________________________\n",
            "Layer (type)                 Output Shape              Param #   \n",
            "=================================================================\n",
            "input_2 (InputLayer)         [(None, 8, 8)]            0         \n",
            "_________________________________________________________________\n",
            "flatten_1 (Flatten)          (None, 64)                0         \n",
            "_________________________________________________________________\n",
            "dense_4 (Dense)              (None, 30)                1950      \n",
            "_________________________________________________________________\n",
            "dense_5 (Dense)              (None, 30)                930       \n",
            "_________________________________________________________________\n",
            "dense_6 (Dense)              (None, 30)                930       \n",
            "_________________________________________________________________\n",
            "dense_7 (Dense)              (None, 10)                310       \n",
            "=================================================================\n",
            "Total params: 4,120\n",
            "Trainable params: 4,120\n",
            "Non-trainable params: 0\n",
            "_________________________________________________________________\n"
          ]
        }
      ],
      "source": [
        "i = Input(input_shape)\n",
        "x = Flatten()(i)\n",
        "x = Dense(30, activation='relu')(x)\n",
        "x = Dense(30, activation='relu')(x)\n",
        "x = Dense(30, activation='relu')(x)\n",
        "o = Dense(10, activation='softmax')(x)\n",
        "mymodel = Model(i, o, name='Bruh pt.2')\n",
        "mymodel.summary()"
      ]
    },
    {
      "cell_type": "markdown",
      "id": "d9fef4da",
      "metadata": {
        "id": "d9fef4da"
      },
      "source": [
        "# Training your model\n",
        "---\n",
        "### Now you have defined your model, use the template below to compile and train it.\n",
        "> ```\n",
        "> Line 8: mymodel.compile(...)\n",
        "> Line 9: mymodel_history = mymodel.fit(...)\n",
        "\n",
        "\n",
        "* Line 8: Here we compile the model using ```.compile()```. We need to pass the following arguments: \n",
        "    * optimizer='adam' - a particularly good adaptive optimizer. See https://arxiv.org/abs/1412.6980 if you are interested\n",
        "    * loss='sparse_categorical_crossentropy' - we need to use this loss function for classification tasks\n",
        "    * metrics='accuracy' - ask the model to calculate the accuracy during training\n",
        "\n",
        "\n",
        "* Line 9: Train the model using ```.fit()```. We need to pass a few arguments here:\n",
        "    * x - training images\n",
        "    * y - training labels\n",
        "    * epochs - how long to train for. ~100 is a good start.\n",
        "    * batch_size - how many images to group up for each training step. ~32 is sensible.\n",
        "    * validation_data - the test images and labels, ie (x_test, y_test).\n",
        "    * verbose - Set this to True if you wish to see the progress of training. Otherwise set to False.\n",
        "    \n",
        "Note, you will need to rerun lines 1-9 if you wish to start training from scratch, as if you only run lines 8 & 9 it will continue where it left off."
      ]
    },
    {
      "cell_type": "code",
      "execution_count": 12,
      "id": "f8f6d644",
      "metadata": {
        "id": "f8f6d644",
        "outputId": "6b03ed45-ce17-4324-ff47-5d120e29a68f",
        "colab": {
          "base_uri": "https://localhost:8080/",
          "height": 360
        }
      },
      "outputs": [
        {
          "output_type": "error",
          "ename": "ValueError",
          "evalue": "ignored",
          "traceback": [
            "\u001b[0;31m---------------------------------------------------------------------------\u001b[0m",
            "\u001b[0;31mValueError\u001b[0m                                Traceback (most recent call last)",
            "\u001b[0;32m<ipython-input-12-814ebe5b1eb7>\u001b[0m in \u001b[0;36m<module>\u001b[0;34m\u001b[0m\n\u001b[1;32m      1\u001b[0m \u001b[0mmymodel\u001b[0m\u001b[0;34m.\u001b[0m\u001b[0mcompile\u001b[0m\u001b[0;34m(\u001b[0m\u001b[0moptimizer\u001b[0m\u001b[0;34m=\u001b[0m\u001b[0;34m'adam'\u001b[0m\u001b[0;34m,\u001b[0m\u001b[0mloss\u001b[0m\u001b[0;34m=\u001b[0m\u001b[0;34m'sparse_categorical_crossentropy'\u001b[0m\u001b[0;34m,\u001b[0m\u001b[0mmetrics\u001b[0m\u001b[0;34m=\u001b[0m\u001b[0;34m'accuracy'\u001b[0m\u001b[0;34m)\u001b[0m\u001b[0;34m\u001b[0m\u001b[0;34m\u001b[0m\u001b[0m\n\u001b[0;32m----> 2\u001b[0;31m \u001b[0mmymodel_history\u001b[0m \u001b[0;34m=\u001b[0m \u001b[0mmymodel\u001b[0m\u001b[0;34m.\u001b[0m\u001b[0mfit\u001b[0m\u001b[0;34m(\u001b[0m\u001b[0mx_train\u001b[0m\u001b[0;34m,\u001b[0m\u001b[0my_train\u001b[0m\u001b[0;34m,\u001b[0m\u001b[0;36m100\u001b[0m\u001b[0;34m,\u001b[0m\u001b[0;36m32\u001b[0m\u001b[0;34m,\u001b[0m\u001b[0mx_test\u001b[0m\u001b[0;34m,\u001b[0m\u001b[0my_test\u001b[0m\u001b[0;34m,\u001b[0m\u001b[0;32mTrue\u001b[0m\u001b[0;34m)\u001b[0m\u001b[0;34m\u001b[0m\u001b[0;34m\u001b[0m\u001b[0m\n\u001b[0m",
            "\u001b[0;32m/usr/local/lib/python3.8/dist-packages/tensorflow/python/keras/engine/training.py\u001b[0m in \u001b[0;36mfit\u001b[0;34m(self, x, y, batch_size, epochs, verbose, callbacks, validation_split, validation_data, shuffle, class_weight, sample_weight, initial_epoch, steps_per_epoch, validation_steps, validation_batch_size, validation_freq, max_queue_size, workers, use_multiprocessing)\u001b[0m\n\u001b[1;32m   1121\u001b[0m       \u001b[0;31m# `Tensor` and `NumPy` input.\u001b[0m\u001b[0;34m\u001b[0m\u001b[0;34m\u001b[0m\u001b[0;34m\u001b[0m\u001b[0m\n\u001b[1;32m   1122\u001b[0m       (x, y, sample_weight), validation_data = (\n\u001b[0;32m-> 1123\u001b[0;31m           data_adapter.train_validation_split(\n\u001b[0m\u001b[1;32m   1124\u001b[0m               (x, y, sample_weight), validation_split=validation_split))\n\u001b[1;32m   1125\u001b[0m \u001b[0;34m\u001b[0m\u001b[0m\n",
            "\u001b[0;32m/usr/local/lib/python3.8/dist-packages/tensorflow/python/keras/engine/data_adapter.py\u001b[0m in \u001b[0;36mtrain_validation_split\u001b[0;34m(arrays, validation_split)\u001b[0m\n\u001b[1;32m   1504\u001b[0m \u001b[0;34m\u001b[0m\u001b[0m\n\u001b[1;32m   1505\u001b[0m   \u001b[0;32mif\u001b[0m \u001b[0msplit_at\u001b[0m \u001b[0;34m==\u001b[0m \u001b[0;36m0\u001b[0m \u001b[0;32mor\u001b[0m \u001b[0msplit_at\u001b[0m \u001b[0;34m==\u001b[0m \u001b[0mbatch_dim\u001b[0m\u001b[0;34m:\u001b[0m\u001b[0;34m\u001b[0m\u001b[0;34m\u001b[0m\u001b[0m\n\u001b[0;32m-> 1506\u001b[0;31m     raise ValueError(\n\u001b[0m\u001b[1;32m   1507\u001b[0m         \u001b[0;34m\"Training data contains {batch_dim} samples, which is not sufficient \"\u001b[0m\u001b[0;34m\u001b[0m\u001b[0;34m\u001b[0m\u001b[0m\n\u001b[1;32m   1508\u001b[0m         \u001b[0;34m\"to split it into a validation and training set as specified by \"\u001b[0m\u001b[0;34m\u001b[0m\u001b[0;34m\u001b[0m\u001b[0m\n",
            "\u001b[0;31mValueError\u001b[0m: Training data contains 718 samples, which is not sufficient to split it into a validation and training set as specified by `validation_split=True`. Either provide more data, or a different value for the `validation_split` argument."
          ]
        }
      ],
      "source": [
        "mymodel.compile(optimizer='adam',loss='sparse_categorical_crossentropy',metrics='accuracy')\n",
        "mymodel_history = mymodel.fit(x_train,y_train,100,32,x_test,y_test,True)"
      ]
    },
    {
      "cell_type": "markdown",
      "id": "ba4846c3",
      "metadata": {
        "id": "ba4846c3"
      },
      "source": [
        "# Plot progress of training\n",
        "---"
      ]
    },
    {
      "cell_type": "markdown",
      "id": "a6546063",
      "metadata": {
        "id": "a6546063"
      },
      "source": [
        "### Now you have defined your model, use the template below to compile and train it.\n",
        "> ```\n",
        "> Line 10: plot_training(...)\n",
        "> Line 11: mymodel.evaluate(...)\n",
        "\n",
        "\n",
        "* Line 10: Pass the output from Line 9 as the argument to my custom function plot_training() to see how the training progressed over time.\n",
        "\n",
        "* Line 11: Evaluate the model on the test data to find the final accuracy. Note that this function returns two numbers, loss and accuracy, but we are only interested in the accuracy at this point."
      ]
    },
    {
      "cell_type": "code",
      "execution_count": null,
      "id": "eb187295",
      "metadata": {
        "id": "eb187295"
      },
      "outputs": [],
      "source": [
        "### Use the template above to plot the training of your model, and evaluate the final test accuracy.\n"
      ]
    },
    {
      "cell_type": "markdown",
      "id": "7985fd9a",
      "metadata": {
        "id": "7985fd9a"
      },
      "source": [
        "# Plot classifications\n",
        "---\n",
        "### Let's plot some of the test data along with the predicted classifcations from the network.\n",
        "> ```\n",
        "> Line 12: predicted = mymodel.predict(x_test).argmax(axis=-1)\n",
        "> Line 13: plot_classifications(x_test, y_test, predicted)\n",
        "\n",
        "\n",
        "* Line 12: Ask the network to predict the labels of the test data. Then choose the one with the highest probability (argmax)\n",
        "\n",
        "* Line 13: Use my custom function to plot a grid of test data with their true and predicted labels. Note, misclassifications will appear in red."
      ]
    },
    {
      "cell_type": "code",
      "execution_count": null,
      "id": "b7f6346e",
      "metadata": {
        "id": "b7f6346e"
      },
      "outputs": [],
      "source": [
        "### Use the template above to predict and plot the classifications of the test data\n"
      ]
    },
    {
      "cell_type": "markdown",
      "id": "d1526e83",
      "metadata": {
        "id": "d1526e83"
      },
      "source": [
        "# What happens if we train for too long?\n",
        "---\n",
        "### Recompile your model and train your network for longer, what happens to the test accuracy?"
      ]
    },
    {
      "cell_type": "code",
      "execution_count": null,
      "id": "1318ace0",
      "metadata": {
        "id": "1318ace0"
      },
      "outputs": [],
      "source": [
        "### Copy your code corresponding to lines 1-11, then increase epochs (max 500 otherwise it will take too long)\n"
      ]
    },
    {
      "cell_type": "markdown",
      "id": "c0cc066e",
      "metadata": {
        "id": "c0cc066e"
      },
      "source": [
        "# Improving test accuracy\n",
        "---\n",
        "### Some techniques we can use to improve test accuracy:\n",
        "* Dropout - During training, a random fraction of nodes are deactivated for each training step. E.g. inserting Dropout(0.1) after a Dense() layer will randomly deactivate 10% of the nodes of that Dense layer, for each training step. This benefits the network as it encourages it to behave like a combination of smaller networks, each of which can continue to work even when some fail to classify. To use dropout, insert the  ```Dropout()``` function after the Dense() layer that you would like to apply the dropout to.\n",
        "* L1/L2 Regularisation - Gradually sets unused weights to zero. You can use the ```l1_l2()``` function and pass it to a Dense layer using ```Dense(..., bias_regularizer=l1_l2() )```"
      ]
    },
    {
      "cell_type": "code",
      "execution_count": null,
      "id": "ca56d251",
      "metadata": {
        "id": "ca56d251"
      },
      "outputs": [],
      "source": [
        "### Copy your code corresponding to lines 1-11, then add Dropout and/or L1/L2 Regularisation \n"
      ]
    },
    {
      "cell_type": "markdown",
      "id": "8e3ecf6f",
      "metadata": {
        "id": "8e3ecf6f"
      },
      "source": [
        "# Challenge!\n",
        "### I was able to make a network with a test accuracy 98.1%. Can you do better than this using Dropout and Regularisation?"
      ]
    },
    {
      "cell_type": "code",
      "execution_count": null,
      "id": "66bb6260",
      "metadata": {
        "id": "66bb6260"
      },
      "outputs": [],
      "source": [
        "### Make your best model here!\n"
      ]
    }
  ],
  "metadata": {
    "colab": {
      "name": "workshop_1.ipynb",
      "provenance": [],
      "include_colab_link": true
    },
    "kernelspec": {
      "display_name": "Python 3 (ipykernel)",
      "language": "python",
      "name": "python3"
    },
    "language_info": {
      "codemirror_mode": {
        "name": "ipython",
        "version": 3
      },
      "file_extension": ".py",
      "mimetype": "text/x-python",
      "name": "python",
      "nbconvert_exporter": "python",
      "pygments_lexer": "ipython3",
      "version": "3.10.9"
    }
  },
  "nbformat": 4,
  "nbformat_minor": 5
}